{
 "cells": [
  {
   "cell_type": "markdown",
   "metadata": {},
   "source": [
    "# Código para preparar el CSV para tableu"
   ]
  },
  {
   "cell_type": "code",
   "execution_count": 20,
   "metadata": {},
   "outputs": [],
   "source": [
    "import pandas as pd\n",
    "\n",
    "# Cargar el CSV\n",
    "df = pd.read_csv('s3_image_metadata_advanced_with_histograms.csv')\n",
    "\n",
    "# Función para dividir los histogramas en filas\n",
    "def explode_histogram_columns(df, columns):\n",
    "    \"\"\"\n",
    "    Divide las columnas de histogramas en múltiples filas.\n",
    "    \"\"\"\n",
    "    # Dividir las columnas de histogramas y expandir las filas\n",
    "    for column in columns:\n",
    "        # Convertir las cadenas separadas por ';' en listas\n",
    "        df[column] = df[column].apply(lambda x: list(map(int, x.split(';'))))\n",
    "    \n",
    "    # Usar `pd.DataFrame.explode` para expandir las listas en filas\n",
    "    df = df.explode(columns)\n",
    "    \n",
    "    return df\n",
    "\n",
    "# Especificar las columnas que contienen los histogramas\n",
    "histogram_columns = ['Histogram_Red', 'Histogram_Green', 'Histogram_Blue']\n",
    "\n",
    "# Dividir los histogramas en múltiples filas\n",
    "df_exploded = explode_histogram_columns(df, histogram_columns)\n",
    "\n",
    "# Crear un nuevo DataFrame con las columnas para cada canal de color\n",
    "df_red = df[['Key', 'Url', 'LastModified', 'Size', 'ETag', 'StorageClass', 'Owner', 'ContentType', 'Width', 'Height', 'Luminosity', 'Contrast', 'Histogram_Red']].copy()\n",
    "df_green = df[['Key', 'Url', 'LastModified', 'Size', 'ETag', 'StorageClass', 'Owner', 'ContentType', 'Width', 'Height', 'Luminosity', 'Contrast', 'Histogram_Green']].copy()\n",
    "df_blue = df[['Key', 'Url', 'LastModified', 'Size', 'ETag', 'StorageClass', 'Owner', 'ContentType', 'Width', 'Height', 'Luminosity', 'Contrast', 'Histogram_Blue']].copy()\n",
    "\n",
    "# Renombrar la columna del histograma para que sea común en todas\n",
    "df_red = df_red.rename(columns={'Histogram_Red': 'Histogram_Value'})\n",
    "df_green = df_green.rename(columns={'Histogram_Green': 'Histogram_Value'})\n",
    "df_blue = df_blue.rename(columns={'Histogram_Blue': 'Histogram_Value'})\n",
    "\n",
    "# Añadir la columna 'Color_Channel' a cada DataFrame\n",
    "df_red['Color_Channel'] = 'Red'\n",
    "df_green['Color_Channel'] = 'Green'\n",
    "df_blue['Color_Channel'] = 'Blue'\n",
    "\n",
    "\n",
    "# Combinar los tres DataFrames en uno solo\n",
    "df_combined = pd.concat([df_red, df_green, df_blue])\n",
    "\n"
   ]
  },
  {
   "cell_type": "code",
   "execution_count": 21,
   "metadata": {},
   "outputs": [
    {
     "name": "stdout",
     "output_type": "stream",
     "text": [
      "CSV transformado guardado como 'csv_para_tableu.csv'\n"
     ]
    }
   ],
   "source": [
    "\n",
    "# Guardar el nuevo CSV\n",
    "df_combined.to_csv('csv_para_tableu.csv', index=False)\n",
    "\n",
    "print(\"CSV transformado guardado como 'csv_para_tableu.csv'\")"
   ]
  },
  {
   "cell_type": "code",
   "execution_count": null,
   "metadata": {},
   "outputs": [],
   "source": []
  }
 ],
 "metadata": {
  "kernelspec": {
   "display_name": ".venv",
   "language": "python",
   "name": "python3"
  },
  "language_info": {
   "codemirror_mode": {
    "name": "ipython",
    "version": 3
   },
   "file_extension": ".py",
   "mimetype": "text/x-python",
   "name": "python",
   "nbconvert_exporter": "python",
   "pygments_lexer": "ipython3",
   "version": "3.12.3"
  }
 },
 "nbformat": 4,
 "nbformat_minor": 2
}
