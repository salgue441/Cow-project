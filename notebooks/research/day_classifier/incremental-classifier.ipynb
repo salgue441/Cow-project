{
 "cells": [
  {
   "cell_type": "markdown",
   "metadata": {},
   "source": [
    "## Incremental Deep Learning for Image Classification\n",
    "\n",
    "This notebook implements an incremental learning approach for image classification using deep learning. The idea is to train a deep learning model on a small dataset and then incrementally train the model on new data.\n",
    "\n",
    "## Table of Contents\n",
    "\n",
    "1. [Setup and Imports](#setup)\n",
    "2. [Data Pipeline](#data-pipeline)\n",
    "3. [Model Architecture](#model-architecture)\n",
    "4. [Training Pipeline](#training)\n",
    "5. [Evaluation](#evaluation)\n",
    "6. [Results](#results)\n"
   ]
  },
  {
   "cell_type": "markdown",
   "metadata": {},
   "source": [
    "### 1. Setup and Imports <a id='setup'></a>\n",
    "\n",
    "Configures logging and import required libraries\n"
   ]
  },
  {
   "cell_type": "code",
   "execution_count": 1,
   "metadata": {},
   "outputs": [
    {
     "name": "stderr",
     "output_type": "stream",
     "text": [
      "2024-11-19 12:53:14.521313: I tensorflow/core/util/port.cc:153] oneDNN custom operations are on. You may see slightly different numerical results due to floating-point round-off errors from different computation orders. To turn them off, set the environment variable `TF_ENABLE_ONEDNN_OPTS=0`.\n",
      "2024-11-19 12:53:14.537031: E external/local_xla/xla/stream_executor/cuda/cuda_fft.cc:477] Unable to register cuFFT factory: Attempting to register factory for plugin cuFFT when one has already been registered\n",
      "WARNING: All log messages before absl::InitializeLog() is called are written to STDERR\n",
      "E0000 00:00:1732042394.552316  305468 cuda_dnn.cc:8310] Unable to register cuDNN factory: Attempting to register factory for plugin cuDNN when one has already been registered\n",
      "E0000 00:00:1732042394.555898  305468 cuda_blas.cc:1418] Unable to register cuBLAS factory: Attempting to register factory for plugin cuBLAS when one has already been registered\n",
      "2024-11-19 12:53:14.567852: I tensorflow/core/platform/cpu_feature_guard.cc:210] This TensorFlow binary is optimized to use available CPU instructions in performance-critical operations.\n",
      "To enable the following instructions: AVX2 AVX512F AVX512_VNNI FMA, in other operations, rebuild TensorFlow with the appropriate compiler flags.\n"
     ]
    }
   ],
   "source": [
    "import json\n",
    "import logging\n",
    "from dataclasses import dataclass\n",
    "from datetime import datetime\n",
    "from pathlib import Path\n",
    "from typing import Dict, List, Optional, Tuple\n",
    "\n",
    "import matplotlib.pyplot as plt\n",
    "import numpy as np\n",
    "import pandas as pd\n",
    "import seaborn as sns\n",
    "import tensorflow as tf\n",
    "from sklearn.metrics import classification_report, confusion_matrix\n",
    "from sklearn.model_selection import train_test_split"
   ]
  },
  {
   "cell_type": "markdown",
   "metadata": {},
   "source": [
    "#### Configuration\n"
   ]
  },
  {
   "cell_type": "code",
   "execution_count": 2,
   "metadata": {},
   "outputs": [],
   "source": [
    "logging.basicConfig(level=logging.INFO)\n",
    "logger = logging.getLogger(__name__)"
   ]
  },
  {
   "cell_type": "code",
   "execution_count": 3,
   "metadata": {},
   "outputs": [],
   "source": [
    "tf.keras.mixed_precision.set_global_policy(\"mixed_float16\")"
   ]
  },
  {
   "cell_type": "code",
   "execution_count": 4,
   "metadata": {},
   "outputs": [],
   "source": [
    "tf.random.set_seed(42)\n",
    "np.random.seed(42)"
   ]
  },
  {
   "cell_type": "markdown",
   "metadata": {},
   "source": [
    "##### Visualization\n"
   ]
  },
  {
   "cell_type": "code",
   "execution_count": 5,
   "metadata": {},
   "outputs": [],
   "source": [
    "sns.set_theme(style=\"whitegrid\")"
   ]
  },
  {
   "cell_type": "markdown",
   "metadata": {},
   "source": [
    "## 2. Data Pipeline <a id='data-pipeline'></a>\n"
   ]
  },
  {
   "cell_type": "markdown",
   "metadata": {},
   "source": [
    "Configures the data split object\n"
   ]
  },
  {
   "cell_type": "code",
   "execution_count": 6,
   "metadata": {},
   "outputs": [],
   "source": [
    "@dataclass\n",
    "class DataSplit:\n",
    "    train_paths: List[str]\n",
    "    val_paths: List[str]\n",
    "    test_paths: List[str]\n",
    "    class_mapping: Dict[str, int]\n",
    "    num_classes: int"
   ]
  },
  {
   "cell_type": "markdown",
   "metadata": {},
   "source": [
    "### Data Manager\n"
   ]
  },
  {
   "cell_type": "code",
   "execution_count": 7,
   "metadata": {},
   "outputs": [],
   "source": [
    "class DataManager:\n",
    "    def __init__(\n",
    "        self,\n",
    "        base_path: str,\n",
    "        img_size: Tuple[int, int] = (224, 224),\n",
    "        val_split: float = 0.15,\n",
    "        test_split: float = 0.15,\n",
    "        random_seed: int = 42,\n",
    "    ):\n",
    "        self.data_dir = Path(base_path)\n",
    "        self.img_size = img_size\n",
    "        self.val_split = val_split\n",
    "        self.test_split = test_split\n",
    "\n",
    "        self.seed = random_seed\n",
    "        self.class_counts = self._get_class_counts()\n",
    "        self.sorted_classes = self._sort_classes_by_size()\n",
    "        self.class_mapping = self._create_class_mapping()\n",
    "\n",
    "    def _get_class_counts(self) -> Dict[str, int]:\n",
    "        \"\"\"\n",
    "        Counts the number of images in each class directory.\n",
    "        \"\"\"\n",
    "\n",
    "        class_counts: dict = {}\n",
    "        if not self.data_dir.exists():\n",
    "            raise ValueError(f\"Data directory {self.data_dir} does not exist.\")\n",
    "\n",
    "        for class_dir in self.data_dir.iterdir():\n",
    "            if class_dir.is_dir():\n",
    "                class_counts[class_dir.name] = len(list(class_dir.glob(\"*.jpg\")))\n",
    "\n",
    "        return class_counts\n",
    "\n",
    "    def _sort_classes_by_size(self) -> List[str]:\n",
    "        \"\"\"\n",
    "        Sorts the classes by the number of images in each class.\n",
    "\n",
    "        Returns:\n",
    "          List[str]: List of class names sorted by the number of images in each class.\n",
    "        \"\"\"\n",
    "\n",
    "        return sorted(\n",
    "            self.class_counts.keys(),\n",
    "            key=lambda x: (self.class_counts[x], int(x)),\n",
    "            reverse=True,\n",
    "        )\n",
    "\n",
    "    def _create_class_mapping(self) -> Dict[str, int]:\n",
    "        \"\"\"\n",
    "        Creates a mapping from class names to class indices.\n",
    "\n",
    "        Returns:\n",
    "          Dict[str, int]: Dictionary mapping class names to class indices.\n",
    "        \"\"\"\n",
    "\n",
    "        return {\n",
    "            class_name: idx\n",
    "            for idx, class_name in enumerate(\n",
    "                sorted(self.class_counts.keys(), key=lambda x: int(x))\n",
    "            )\n",
    "        }\n",
    "\n",
    "    def get_class_subset(self, num_classes: int) -> List[str]:\n",
    "        \"\"\"\n",
    "        Gets the top `num_classes` classes sorted by the number of images in each class.\n",
    "\n",
    "        Args:\n",
    "          num_classes (int): Number of classes to include in the dataset.\n",
    "\n",
    "        Returns:\n",
    "          List[str]: List of class names.\n",
    "        \"\"\"\n",
    "\n",
    "        if num_classes > len(self.sorted_classes):\n",
    "            raise ValueError(\n",
    "                f\"Requested {num_classes} classes, but only {len(self.sorted_classes)} available.\"\n",
    "            )\n",
    "\n",
    "        return self.sorted_classes[:num_classes]\n",
    "\n",
    "    def _collect_image_paths(self, classes: List[str]) -> Tuple[List[str], List[str]]:\n",
    "        \"\"\"\n",
    "        Collects all image paths and their corresponding labels for the\n",
    "        given classes.\n",
    "\n",
    "        Args:\n",
    "          classes (List[str]): List of class names to include in the dataset.\n",
    "\n",
    "        Returns:\n",
    "          Tuple[List[str], List[str]]: Tuple containing the image paths and their corresponding labels.\n",
    "        \"\"\"\n",
    "\n",
    "        image_paths, labels = [], []\n",
    "\n",
    "        for class_name in classes:\n",
    "            class_path = self.data_dir / class_name\n",
    "\n",
    "            if not class_path.exists():\n",
    "                logger.warning(f\"Class directory {class_path} does not exist.\")\n",
    "                continue\n",
    "\n",
    "            image_files = []\n",
    "            for ext in [\"*.jpg\"]:\n",
    "                image_files.extend(list(class_path.glob(ext)))\n",
    "\n",
    "            if not image_files:\n",
    "                logger.warning(f\"No images found in {class_path}\")\n",
    "                continue\n",
    "\n",
    "            image_paths.extend([str(img) for img in image_files])\n",
    "            labels.extend([class_name] * len(image_files))\n",
    "\n",
    "            logger.info(f\"Collected {len(image_files)} images for class {class_name}\")\n",
    "\n",
    "            if not image_paths:\n",
    "                raise ValueError(f\"No images found for classes {classes}\")\n",
    "\n",
    "        return image_paths, labels\n",
    "\n",
    "    def prepare_data_split(self, classes: List[str]) -> DataSplit:\n",
    "        \"\"\"\n",
    "        Prepares the data split for the given classes. It first\n",
    "        divides the data into train_val and test sets, and then\n",
    "        further divides the train_val set into train and validation\n",
    "\n",
    "        Args:\n",
    "            classes (List[str]): List of class names to include in the dataset.\n",
    "\n",
    "        Returns:\n",
    "            DataSplit: DataSplit object containing the train, validation, and test splits.\n",
    "        \"\"\"\n",
    "\n",
    "        image_paths, labels = self._collect_image_paths(classes)\n",
    "        subset_mapping = {cls: self.class_mapping[cls] for cls in classes}\n",
    "\n",
    "        train_val_paths, test_paths, train_val_labels, test_labels = train_test_split(\n",
    "            image_paths,\n",
    "            labels,\n",
    "            test_size=self.test_split,\n",
    "            stratify=labels,\n",
    "            random_state=self.seed,\n",
    "        )\n",
    "\n",
    "        train_paths, val_paths, train_labels, val_labels = train_test_split(\n",
    "            train_val_paths,\n",
    "            train_val_labels,\n",
    "            test_size=self.val_split / (1 - self.test_split),\n",
    "            stratify=train_val_labels,\n",
    "            random_state=self.seed,\n",
    "        )\n",
    "\n",
    "        logger.info(\n",
    "            f\"Split sizes - Train: {len(train_paths)}, Val: {len(val_paths)}, Test: {len(test_paths)}\"\n",
    "        )\n",
    "\n",
    "        return DataSplit(\n",
    "            train_paths=train_val_paths,\n",
    "            val_paths=val_paths,\n",
    "            test_paths=test_paths,\n",
    "            class_mapping=subset_mapping,\n",
    "            num_classes=len(classes),\n",
    "        )\n",
    "\n",
    "    def plot_class_distribution(self, classes: Optional[List[str]] = None):\n",
    "        \"\"\"\n",
    "        Plots the class distribution for the given classes.\n",
    "\n",
    "        Args:\n",
    "            clases (Optional[List[str]]): List of class names to include in the plot.\n",
    "        \"\"\"\n",
    "\n",
    "        if classes is None:\n",
    "            classes = self.sorted_classes\n",
    "\n",
    "        counts = [self.class_counts[cls] for cls in classes]\n",
    "        plt.figure(figsize=(12, 6))\n",
    "        plt.bar(classes, counts)\n",
    "        plt.title(\"Class Distribution\")\n",
    "        plt.xlabel(\"Class\")\n",
    "        plt.ylabel(\"Number of Images\")\n",
    "        plt.xticks(rotation=45)\n",
    "        plt.tight_layout()\n",
    "        plt.show()"
   ]
  },
  {
   "cell_type": "markdown",
   "metadata": {},
   "source": [
    "### Data Generator\n"
   ]
  },
  {
   "cell_type": "code",
   "execution_count": 8,
   "metadata": {},
   "outputs": [],
   "source": [
    "class DataGenerator:\n",
    "    def __init__(self, img_size: Tuple[int, int], batch_size: int = 32):\n",
    "        self.img_size = img_size\n",
    "        self.batch_size = batch_size\n",
    "        self.train_datagen = self._create_train_datagen()\n",
    "        self.test_datagen = self._create_test_datagen()\n",
    "        self.label_to_index = None\n",
    "        self.num_classes = None\n",
    "\n",
    "    def _create_train_datagen(self) -> tf.keras.preprocessing.image.ImageDataGenerator:\n",
    "        \"\"\"\n",
    "        Creates the training data generator with data augmentation. The following augmentations are applied:\n",
    "        - Rotation\n",
    "        - Width and height shift\n",
    "        - Shear\n",
    "        - Zoom\n",
    "        - Horizontal and vertical flip\n",
    "        - Brightness\n",
    "\n",
    "        Returns:\n",
    "            tf.keras.preprocessing.image.ImageDataGenerator: Training data generator.\n",
    "        \"\"\"\n",
    "\n",
    "        return tf.keras.preprocessing.image.ImageDataGenerator(\n",
    "            rotation_range=360,\n",
    "            width_shift_range=0.3,\n",
    "            height_shift_range=0.3,\n",
    "            shear_range=0.2,\n",
    "            zoom_range=0.2,\n",
    "            horizontal_flip=True,\n",
    "            vertical_flip=True,\n",
    "            fill_mode=\"constant\",\n",
    "            brightness_range=(0.6, 1.4),\n",
    "            channel_shift_range=0.2,\n",
    "        )\n",
    "\n",
    "    def _create_test_datagen(self) -> tf.keras.preprocessing.image.ImageDataGenerator:\n",
    "        \"\"\"\n",
    "        Creates the test data generator with only the input preprocessing function.\n",
    "\n",
    "        Returns:\n",
    "            tf.keras.preprocessing.image.ImageDataGenerator: Test data generator\n",
    "        \"\"\"\n",
    "\n",
    "        return tf.keras.preprocessing.image.ImageDataGenerator(\n",
    "            preprocessing_function=self._preprocess_input,\n",
    "        )\n",
    "\n",
    "    def _preprocess_input(self, x):\n",
    "        \"\"\"\n",
    "        Preprocesses the input image by scaling pixel values to the range of [-1, 1].\n",
    "\n",
    "        Args:\n",
    "            x (np.ndarray): Input image.\n",
    "\n",
    "        Returns:\n",
    "            np.ndarray: Preprocessed image.\n",
    "        \"\"\"\n",
    "\n",
    "        x = tf.cast(x, tf.float32)\n",
    "\n",
    "        return tf.image.per_image_standardization(x)\n",
    "\n",
    "    def create_generators(self, data_split: DataSplit):\n",
    "        \"\"\"\n",
    "        Creates the generators for training, validation, and testing.\n",
    "\n",
    "        Args:\n",
    "            data_split (DataSplit): DataSplit object containing the train, validation, and test splits.\n",
    "\n",
    "        Returns:\n",
    "            Tuple[tf.data.Dataset, tf.data.Dataset, tf.data.Dataset]: Tuple containing the training, validation, and test datasets.\n",
    "        \"\"\"\n",
    "\n",
    "        self.label_to_index = data_split.class_mapping\n",
    "        self.num_classes = data_split.num_classes\n",
    "\n",
    "        def create_df(paths: List[str]) -> pd.DataFrame:\n",
    "            return pd.DataFrame(\n",
    "                {\n",
    "                    \"filename\": paths,\n",
    "                    \"class\": [Path(p).parent.name for p in paths],\n",
    "                }\n",
    "            )\n",
    "\n",
    "        train_df = create_df(data_split.train_paths)\n",
    "        val_df = create_df(data_split.val_paths)\n",
    "        test_df = create_df(data_split.test_paths)\n",
    "\n",
    "        logger.info(\n",
    "            f\"Training set class distribution:\\n{train_df['class'].value_counts()}\"\n",
    "        )\n",
    "\n",
    "        train_ds = self._create_dataset(train_df, is_training=True)\n",
    "        val_ds = self._create_dataset(val_df, is_training=False)\n",
    "        test_ds = self._create_dataset(test_df, is_training=False)\n",
    "\n",
    "        return train_ds, val_ds, test_ds\n",
    "\n",
    "    def _create_dataset(\n",
    "        self, df: pd.DataFrame, is_training: bool = False\n",
    "    ) -> tf.data.Dataset:\n",
    "        \"\"\"\n",
    "        Creates the tf.data.Dataset object from the given DataFrame.\n",
    "\n",
    "        Args:\n",
    "            df (pd.DataFrame): DataFrame containing the image paths and their corresponding labels.\n",
    "            is_training (bool): Whether the dataset is for training or not.\n",
    "\n",
    "        Returns:\n",
    "            tf.data.Dataset: Dataset object.\n",
    "        \"\"\"\n",
    "\n",
    "        datagen = self.train_datagen if is_training else self.test_datagen\n",
    "        filenames = df[\"filename\"].values\n",
    "        labels = df[\"class\"].map(self.label_to_index).values\n",
    "\n",
    "        dataset = tf.data.Dataset.from_tensor_slices((filenames, labels))\n",
    "        dataset = dataset.map(self._parse_function, num_parallel_calls=tf.data.AUTOTUNE)\n",
    "\n",
    "        dataset = dataset.batch(self.batch_size)\n",
    "\n",
    "        if is_training:\n",
    "            dataset = dataset.shuffle(\n",
    "                buffer_size=len(df), reshuffle_each_iteration=True\n",
    "            )\n",
    "\n",
    "        dataset = dataset.prefetch(tf.data.AUTOTUNE)\n",
    "\n",
    "        steps = len(df) // self.batch_size\n",
    "        if is_training:\n",
    "            self.steps_per_epoch = steps\n",
    "\n",
    "        else:\n",
    "            self.validation_steps = steps\n",
    "\n",
    "        return dataset\n",
    "\n",
    "    @tf.function\n",
    "    def _parse_function(self, filename, label):\n",
    "        \"\"\"\n",
    "        Loads and preprocesses the image and its corresponding label.\n",
    "\n",
    "        Args:\n",
    "            filename (tf.Tensor): Image filename.\n",
    "            label (tf.Tensor): Image label.\n",
    "\n",
    "        Returns:\n",
    "            Tuple[tf.Tensor, tf.Tensor]: Tuple containing the image and its label\n",
    "        \"\"\"\n",
    "\n",
    "        image = tf.io.read_file(filename)\n",
    "        image = tf.image.decode_jpeg(image, channels=3)\n",
    "        image = tf.image.resize(image, self.img_size)\n",
    "        label = tf.one_hot(label, self.num_classes)\n",
    "\n",
    "        return image, label\n",
    "\n",
    "    def get_steps(self):\n",
    "        return self.steps_per_epoch, self.validation_steps\n",
    "\n",
    "    def get_num_classes(self):\n",
    "        return self.num_classes\n",
    "\n",
    "    def get_class_mapping(self):\n",
    "        return self.label_to_index"
   ]
  },
  {
   "cell_type": "markdown",
   "metadata": {},
   "source": [
    "## Pre-Trained Model\n"
   ]
  },
  {
   "cell_type": "code",
   "execution_count": 9,
   "metadata": {},
   "outputs": [],
   "source": [
    "class ModelManager:\n",
    "    def __init__(\n",
    "        self,\n",
    "        img_size: Tuple[int, int] = (224, 224),\n",
    "        model_dir: str = \"models\",\n",
    "        initial_lr: float = 1e-4,\n",
    "    ):\n",
    "        self.img_size = img_size\n",
    "        self.model_dir = Path(model_dir)\n",
    "        self.model_dir.mkdir(exist_ok=True, parents=True)\n",
    "        self.initial_lr = initial_lr\n",
    "        self.model = None\n",
    "        self.base_model = None\n",
    "\n",
    "    def build_model(self, num_classes: int) -> tf.keras.Model:\n",
    "        if self.model is None:\n",
    "            self.base_model = tf.keras.applications.MobileNetV3Large(\n",
    "                weights=\"imagenet\", include_top=False, input_shape=(*self.img_size, 3)\n",
    "            )\n",
    "\n",
    "            self.base_model.trainable = False\n",
    "\n",
    "            inputs = tf.keras.Input(shape=(*self.img_size, 3))\n",
    "            x = tf.keras.applications.mobilenet_v3.preprocess_input(inputs)\n",
    "\n",
    "            x = self.base_model(x, training=False)\n",
    "            x1 = tf.keras.layers.GlobalAveragePooling2D()(x)\n",
    "            x2 = tf.keras.layers.GlobalMaxPooling2D()(x)\n",
    "\n",
    "            x = tf.keras.layers.Concatenate()([x1, x2])\n",
    "            x = tf.keras.layers.Dense(512, use_bias=False)(x)\n",
    "            x = tf.keras.layers.BatchNormalization()(x)\n",
    "            x = tf.keras.layers.Activation(\"relu\")(x)\n",
    "            x = tf.keras.layers.Dropout(0.5)(x)\n",
    "\n",
    "            x = tf.keras.layers.Dense(256, activation=\"relu\")(x)\n",
    "            x = tf.keras.layers.Dropout(0.3)(x)\n",
    "            outputs = tf.keras.layers.Dense(num_classes, activation=\"softmax\")(x)\n",
    "\n",
    "            self.model = tf.keras.Model(inputs, outputs)\n",
    "\n",
    "        self.current_classes = num_classes\n",
    "        self._compile_model(num_classes=num_classes)\n",
    "        return self.model\n",
    "\n",
    "    def _compile_model(self, num_classes):\n",
    "        optimizer = tf.keras.optimizers.Adam(\n",
    "            learning_rate=self.initial_lr, clipnorm=1.0\n",
    "        )\n",
    "\n",
    "        f1_score = tf.keras.metrics.F1Score(\n",
    "            average=\"macro\", threshold=None, name=\"f1_score\"\n",
    "        )\n",
    "\n",
    "        def sparse_f1_score(y_true, y_pred):\n",
    "            y_true_one_hot = tf.one_hot(tf.cast(y_true, tf.int32), num_classes)\n",
    "            return f1_score(y_true_one_hot, y_pred)\n",
    "\n",
    "        self.model.compile(\n",
    "            optimizer=optimizer,\n",
    "            loss=\"categorical_crossentropy\",\n",
    "            metrics=[\"accuracy\", sparse_f1_score],\n",
    "        )\n",
    "\n",
    "    def train(\n",
    "        self,\n",
    "        train_ds,\n",
    "        val_ds,\n",
    "        iteration: int,\n",
    "        epochs: int = 50,\n",
    "        class_weights: Optional[Dict] = None,\n",
    "    ) -> tf.keras.callbacks.History:\n",
    "        callbacks = [\n",
    "            tf.keras.callbacks.ModelCheckpoint(\n",
    "                str(self.model_dir / f\"best_model_iter_{iteration}.keras\"),\n",
    "                monitor=\"val_accuracy\",\n",
    "                mode=\"max\",\n",
    "                save_best_only=True,\n",
    "                verbose=1,\n",
    "            ),\n",
    "            tf.keras.callbacks.EarlyStopping(\n",
    "                monitor=\"val_accuracy\",\n",
    "                patience=10,\n",
    "                restore_best_weights=True,\n",
    "                verbose=1,\n",
    "            ),\n",
    "            tf.keras.callbacks.ReduceLROnPlateau(\n",
    "                monitor=\"val_loss\", factor=0.5, patience=5, min_lr=1e-6, verbose=1\n",
    "            ),\n",
    "        ]\n",
    "\n",
    "        history = self.model.fit(\n",
    "            train_ds,\n",
    "            validation_data=val_ds,\n",
    "            epochs=epochs,\n",
    "            callbacks=callbacks,\n",
    "            class_weight=class_weights,\n",
    "        )\n",
    "\n",
    "        return history\n",
    "\n",
    "    def fine_tune(\n",
    "        self,\n",
    "        train_ds,\n",
    "        val_ds,\n",
    "        iteration: int,\n",
    "        num_layers_to_unfreeze: int = 75,\n",
    "        epochs: int = 30,\n",
    "        class_weights: Optional[Dict] = None,\n",
    "    ) -> tf.keras.callbacks.History:\n",
    "        self.load_best_model(iteration)\n",
    "        self.base_model.trainable = True\n",
    "\n",
    "        for layer in self.base_model.layers[:-num_layers_to_unfreeze]:\n",
    "            layer.trainable = False\n",
    "\n",
    "        self.initial_lr = self.initial_lr * 0.1\n",
    "        self._compile_model()\n",
    "\n",
    "        return self.train(\n",
    "            train_ds,\n",
    "            val_ds,\n",
    "            iteration=f\"{iteration}_ft\",\n",
    "            epochs=epochs,\n",
    "            class_weights=class_weights,\n",
    "        )\n",
    "\n",
    "    def prepare_next_iteration(\n",
    "        self, previous_iteration: int, new_num_classes: int\n",
    "    ) -> None:\n",
    "        self.load_best_model(f\"{previous_iteration}_ft\")\n",
    "\n",
    "        old_weights = [layer.get_weights() for layer in self.model.layers[:-1]]\n",
    "        self.build_model(new_num_classes)\n",
    "\n",
    "        for layer, weights in zip(self.model.layers[:-1], old_weights):\n",
    "            if weights:\n",
    "                layer.set_weights(weights)\n",
    "\n",
    "    def load_best_model(self, iteration: str) -> None:\n",
    "        model_path = self.model_dir / f\"best_model_iter_{iteration}.keras\"\n",
    "        if not model_path.exists():\n",
    "            raise ValueError(f\"No saved model found for iteration {iteration}\")\n",
    "\n",
    "        self.model = tf.keras.models.load_model(str(model_path))\n",
    "        logger.info(f\"Loaded best model from iteration {iteration}\")\n",
    "\n",
    "    def save_iteration_info(self, iteration: int, metrics: Dict) -> None:\n",
    "        info = {\n",
    "            \"iteration\": iteration,\n",
    "            \"metrics\": metrics,\n",
    "            \"model_config\": self.model.get_config(),\n",
    "            \"timestamp\": datetime.now().isoformat(),\n",
    "        }\n",
    "\n",
    "        with open(self.model_dir / f\"iteration_{iteration}_info.json\", \"w\") as f:\n",
    "            json.dump(info, f, indent=4)"
   ]
  },
  {
   "cell_type": "markdown",
   "metadata": {},
   "source": [
    "### Auxiliary function\n"
   ]
  },
  {
   "cell_type": "code",
   "execution_count": 10,
   "metadata": {},
   "outputs": [],
   "source": [
    "def plot_history_subplot(history):\n",
    "    plt.figure(figsize=(12, 4))\n",
    "\n",
    "    plt.subplot(1, 2, 1)\n",
    "    plt.plot(history.history[\"accuracy\"], label=\"Training\")\n",
    "    plt.plot(history.history[\"val_accuracy\"], label=\"Validation\")\n",
    "    plt.title(\"Model Accuracy\")\n",
    "    plt.xlabel(\"Epoch\")\n",
    "    plt.ylabel(\"Accuracy\")\n",
    "    plt.legend()\n",
    "\n",
    "    plt.subplot(1, 2, 2)\n",
    "    plt.plot(history.history[\"loss\"], label=\"Training\")\n",
    "    plt.plot(history.history[\"val_loss\"], label=\"Validation\")\n",
    "    plt.title(\"Model Loss\")\n",
    "    plt.xlabel(\"Epoch\")\n",
    "    plt.ylabel(\"Loss\")\n",
    "    plt.legend()\n",
    "\n",
    "    plt.tight_layout()\n",
    "    plt.show()"
   ]
  },
  {
   "cell_type": "code",
   "execution_count": 11,
   "metadata": {},
   "outputs": [],
   "source": [
    "class ModelEvaluator:\n",
    "    def __init__(self, model_manager: ModelManager):\n",
    "        self.model_manager = model_manager\n",
    "        self.evaluation_history: Dict[int, Dict] = {}\n",
    "\n",
    "    def evaluate_iteration(\n",
    "        self,\n",
    "        iteration: int,\n",
    "        test_ds: tf.data.Dataset,\n",
    "        class_names: List[str],\n",
    "        plot: bool = True,\n",
    "    ) -> Dict:\n",
    "        \"\"\"\n",
    "        Evaluates the model for a given iteration and stores the results.\n",
    "        \"\"\"\n",
    "        y_pred = []\n",
    "        y_true = []\n",
    "\n",
    "        for images, labels in test_ds:\n",
    "            predictions = self.model_manager.model.predict(images, verbose=0)\n",
    "            y_pred.extend(np.argmax(predictions, axis=1))\n",
    "            y_true.extend(np.argmax(labels, axis=1))\n",
    "\n",
    "        unique_labels = np.unique(y_true)\n",
    "        actual_class_names = [class_names[i] for i in unique_labels]\n",
    "\n",
    "        cm = confusion_matrix(y_true, y_pred)\n",
    "        report = classification_report(\n",
    "            y_true, y_pred, target_names=actual_class_names, output_dict=True\n",
    "        )\n",
    "\n",
    "        results = {\n",
    "            \"confusion_matrix\": cm,\n",
    "            \"classification_report\": report,\n",
    "            \"class_names\": actual_class_names,\n",
    "        }\n",
    "        self.evaluation_history[iteration] = results\n",
    "\n",
    "        if plot:\n",
    "            self.plot_confusion_matrix(iteration)\n",
    "\n",
    "        return results\n",
    "\n",
    "    def plot_confusion_matrix(\n",
    "        self, iteration: int, figsize: Tuple[int, int] = (20, 8), cmap: str = \"Blues\"\n",
    "    ) -> None:\n",
    "        \"\"\"\n",
    "        Plots normalized and raw confusion matrices side by side.\n",
    "        \"\"\"\n",
    "        if iteration not in self.evaluation_history:\n",
    "            raise ValueError(f\"No evaluation data found for iteration {iteration}\")\n",
    "\n",
    "        results = self.evaluation_history[iteration]\n",
    "        cm = results[\"confusion_matrix\"]\n",
    "        class_names = results[\"class_names\"]\n",
    "\n",
    "        # Create figure with two subplots side by side\n",
    "        fig, (ax1, ax2) = plt.subplots(1, 2, figsize=figsize)\n",
    "\n",
    "        # Plot normalized confusion matrix\n",
    "        cm_normalized = cm.astype(\"float\") / cm.sum(axis=1)[:, np.newaxis]\n",
    "        sns.heatmap(\n",
    "            cm_normalized,\n",
    "            annot=True,\n",
    "            fmt=\".2f\",\n",
    "            cmap=cmap,\n",
    "            xticklabels=class_names,\n",
    "            yticklabels=class_names,\n",
    "            ax=ax1,\n",
    "        )\n",
    "        ax1.set_title(f\"Normalized Confusion Matrix - Iteration {iteration}\")\n",
    "        ax1.set_ylabel(\"True Label\")\n",
    "        ax1.set_xlabel(\"Predicted Label\")\n",
    "        plt.setp(ax1.get_xticklabels(), rotation=45, ha=\"right\")\n",
    "\n",
    "        # Plot raw counts confusion matrix\n",
    "        sns.heatmap(\n",
    "            cm,\n",
    "            annot=True,\n",
    "            fmt=\"d\",\n",
    "            cmap=cmap,\n",
    "            xticklabels=class_names,\n",
    "            yticklabels=class_names,\n",
    "            ax=ax2,\n",
    "        )\n",
    "        ax2.set_title(f\"Raw Counts Confusion Matrix - Iteration {iteration}\")\n",
    "        ax2.set_ylabel(\"True Label\")\n",
    "        ax2.set_xlabel(\"Predicted Label\")\n",
    "        plt.setp(ax2.get_xticklabels(), rotation=45, ha=\"right\")\n",
    "\n",
    "        plt.tight_layout()\n",
    "        plt.show()\n",
    "\n",
    "    def print_classification_report(self, iteration: int) -> None:\n",
    "        \"\"\"Prints the classification report for a given iteration.\"\"\"\n",
    "        if iteration not in self.evaluation_history:\n",
    "            raise ValueError(f\"No evaluation data found for iteration {iteration}\")\n",
    "\n",
    "        report = self.evaluation_history[iteration][\"classification_report\"]\n",
    "        print(f\"\\nClassification Report - Iteration {iteration}\")\n",
    "        print(\"-\" * 60)\n",
    "\n",
    "        for class_name in report.keys():\n",
    "            if class_name in [\"accuracy\", \"macro avg\", \"weighted avg\"]:\n",
    "                continue\n",
    "            metrics = report[class_name]\n",
    "            print(\n",
    "                f\"{class_name::<15} Precision: {metrics['precision']:.3f}  \"\n",
    "                f\"Recall: {metrics['recall']:.3f}  \"\n",
    "                f\"F1-score: {metrics['f1-score']:.3f}\"\n",
    "            )\n",
    "\n",
    "        print(\"-\" * 60)\n",
    "        print(f\"Accuracy: {report['accuracy']:.3f}\")"
   ]
  },
  {
   "cell_type": "code",
   "execution_count": 12,
   "metadata": {},
   "outputs": [],
   "source": [
    "def compare_iterations_performance(evaluator, iterations=[1, 2]):\n",
    "    plt.figure(figsize=(15, 6))\n",
    "\n",
    "    for iteration in iterations:\n",
    "        if iteration in evaluator.evaluation_history:\n",
    "            report = evaluator.evaluation_history[iteration][\"classification_report\"]\n",
    "            classes = evaluator.evaluation_history[iteration][\"class_names\"]\n",
    "\n",
    "            # Get F1 scores for each class\n",
    "            f1_scores = [report[cls][\"f1-score\"] for cls in classes]\n",
    "\n",
    "            plt.subplot(1, 2, 1)\n",
    "            plt.plot(\n",
    "                range(len(classes)),\n",
    "                f1_scores,\n",
    "                marker=\"o\",\n",
    "                label=f\"Iteration {iteration}\",\n",
    "            )\n",
    "            plt.xticks(range(len(classes)), classes, rotation=45)\n",
    "            plt.ylabel(\"F1 Score\")\n",
    "            plt.title(\"F1 Score by Class\")\n",
    "            plt.legend()\n",
    "\n",
    "            # Get accuracies\n",
    "            accuracies = [report[cls][\"precision\"] for cls in classes]\n",
    "\n",
    "            plt.subplot(1, 2, 2)\n",
    "            plt.plot(\n",
    "                range(len(classes)),\n",
    "                accuracies,\n",
    "                marker=\"o\",\n",
    "                label=f\"Iteration {iteration}\",\n",
    "            )\n",
    "            plt.xticks(range(len(classes)), classes, rotation=45)\n",
    "            plt.ylabel(\"Precision\")\n",
    "            plt.title(\"Precision by Class\")\n",
    "            plt.legend()\n",
    "\n",
    "    plt.tight_layout()\n",
    "    plt.show()"
   ]
  },
  {
   "cell_type": "markdown",
   "metadata": {},
   "source": [
    "## Main Execution\n"
   ]
  },
  {
   "cell_type": "code",
   "execution_count": 13,
   "metadata": {},
   "outputs": [],
   "source": [
    "dataset_manager = DataManager(\n",
    "    base_path=\"../../../data/extended/day/\", img_size=(224, 224)\n",
    ")\n",
    "data_generator = DataGenerator(img_size=(224, 224), batch_size=32)\n",
    "model_manager = ModelManager(img_size=(224, 224), model_dir=\"saved_models\")\n",
    "evaluator = ModelEvaluator(model_manager)"
   ]
  },
  {
   "cell_type": "markdown",
   "metadata": {},
   "source": [
    "## First Execution\n"
   ]
  },
  {
   "cell_type": "code",
   "execution_count": 14,
   "metadata": {},
   "outputs": [
    {
     "name": "stderr",
     "output_type": "stream",
     "text": [
      "INFO:matplotlib.category:Using categorical units to plot a list of strings that are all parsable as floats or dates. If these strings should be plotted as numbers, cast to the appropriate data type before plotting.\n",
      "INFO:matplotlib.category:Using categorical units to plot a list of strings that are all parsable as floats or dates. If these strings should be plotted as numbers, cast to the appropriate data type before plotting.\n"
     ]
    },
    {
     "data": {
      "image/png": "[encoded data removed]",
      "text/plain": [
       "<Figure size 1200x600 with 1 Axes>"
      ]
     },
     "metadata": {},
     "output_type": "display_data"
    }
   ],
   "source": [
    "dataset_manager.plot_class_distribution()"
   ]
  },
  {
   "cell_type": "markdown",
   "metadata": {},
   "source": [
    "### First Execution: Top 5 classes with highest probabilities\n"
   ]
  },
  {
   "cell_type": "code",
   "execution_count": 15,
   "metadata": {},
   "outputs": [
    {
     "name": "stderr",
     "output_type": "stream",
     "text": [
      "INFO:__main__:Collected 646 images for class 5\n",
      "INFO:__main__:Collected 635 images for class 3\n",
      "INFO:__main__:Collected 584 images for class 4\n",
      "INFO:__main__:Collected 543 images for class 2\n",
      "INFO:__main__:Collected 522 images for class 6\n",
      "INFO:__main__:Collected 385 images for class 1\n",
      "INFO:__main__:Collected 342 images for class 7\n",
      "INFO:__main__:Split sizes - Train: 2559, Val: 549, Test: 549\n"
     ]
    }
   ],
   "source": [
    "initial_classes = dataset_manager.get_class_subset(num_classes=7)\n",
    "data_split = dataset_manager.prepare_data_split(initial_classes)"
   ]
  },
  {
   "cell_type": "code",
   "execution_count": 16,
   "metadata": {},
   "outputs": [
    {
     "name": "stderr",
     "output_type": "stream",
     "text": [
      "INFO:__main__:Training set class distribution:\n",
      "class\n",
      "5    549\n",
      "3    540\n",
      "4    496\n",
      "2    461\n",
      "6    444\n",
      "1    327\n",
      "7    291\n",
      "Name: count, dtype: int64\n",
      "I0000 00:00:1732042396.092277  305468 gpu_device.cc:2022] Created device /job:localhost/replica:0/task:0/device:GPU:0 with 3586 MB memory:  -> device: 0, name: NVIDIA GeForce RTX 3060 Laptop GPU, pci bus id: 0000:01:00.0, compute capability: 8.6\n"
     ]
    }
   ],
   "source": [
    "train_gen, val_gen, test_gen = data_generator.create_generators(data_split)"
   ]
  },
  {
   "cell_type": "markdown",
   "metadata": {},
   "source": [
    "#### Calculating Class Weights\n"
   ]
  },
  {
   "cell_type": "code",
   "execution_count": 17,
   "metadata": {},
   "outputs": [],
   "source": [
    "total_samples = sum(dataset_manager.class_counts[cls] for cls in initial_classes)\n",
    "\n",
    "class_weights = {\n",
    "    data_split.class_mapping[cls]: total_samples\n",
    "    / (len(initial_classes) * dataset_manager.class_counts[cls])\n",
    "    for cls in initial_classes\n",
    "}"
   ]
  },
  {
   "cell_type": "code",
   "execution_count": 18,
   "metadata": {},
   "outputs": [
    {
     "name": "stderr",
     "output_type": "stream",
     "text": [
      "INFO:__main__:Steps per epoch: 97, Validation steps: 17\n"
     ]
    }
   ],
   "source": [
    "steps_per_epoch, validation_steps = data_generator.get_steps()\n",
    "logger.info(f\"Steps per epoch: {steps_per_epoch}, Validation steps: {validation_steps}\")"
   ]
  },
  {
   "cell_type": "markdown",
   "metadata": {},
   "source": [
    "#### Initial Model\n"
   ]
  },
  {
   "cell_type": "code",
   "execution_count": 19,
   "metadata": {},
   "outputs": [
    {
     "data": {
      "text/html": [
       "<pre style=\"white-space:pre;overflow-x:auto;line-height:normal;font-family:Menlo,'DejaVu Sans Mono',consolas,'Courier New',monospace\"><span style=\"font-weight: bold\">Model: \"functional\"</span>\n",
       "</pre>\n"
      ],
      "text/plain": [
       "\u001b[1mModel: \"functional\"\u001b[0m\n"
      ]
     },
     "metadata": {},
     "output_type": "display_data"
    },
    {
     "data": {
      "text/html": [
       "<pre style=\"white-space:pre;overflow-x:auto;line-height:normal;font-family:Menlo,'DejaVu Sans Mono',consolas,'Courier New',monospace\">┏━━━━━━━━━━━━━━━━━━━━━┳━━━━━━━━━━━━━━━━━━━┳━━━━━━━━━━━━┳━━━━━━━━━━━━━━━━━━━┓\n",
       "┃<span style=\"font-weight: bold\"> Layer (type)        </span>┃<span style=\"font-weight: bold\"> Output Shape      </span>┃<span style=\"font-weight: bold\">    Param # </span>┃<span style=\"font-weight: bold\"> Connected to      </span>┃\n",
       "┡━━━━━━━━━━━━━━━━━━━━━╇━━━━━━━━━━━━━━━━━━━╇━━━━━━━━━━━━╇━━━━━━━━━━━━━━━━━━━┩\n",
       "│ input_layer_1       │ (<span style=\"color: #00d7ff; text-decoration-color: #00d7ff\">None</span>, <span style=\"color: #00af00; text-decoration-color: #00af00\">224</span>, <span style=\"color: #00af00; text-decoration-color: #00af00\">224</span>,  │          <span style=\"color: #00af00; text-decoration-color: #00af00\">0</span> │ -                 │\n",
       "│ (<span style=\"color: #0087ff; text-decoration-color: #0087ff\">InputLayer</span>)        │ <span style=\"color: #00af00; text-decoration-color: #00af00\">3</span>)                │            │                   │\n",
       "├─────────────────────┼───────────────────┼────────────┼───────────────────┤\n",
       "│ MobileNetV3Large    │ (<span style=\"color: #00d7ff; text-decoration-color: #00d7ff\">None</span>, <span style=\"color: #00af00; text-decoration-color: #00af00\">7</span>, <span style=\"color: #00af00; text-decoration-color: #00af00\">7</span>, <span style=\"color: #00af00; text-decoration-color: #00af00\">960</span>) │  <span style=\"color: #00af00; text-decoration-color: #00af00\">2,996,352</span> │ input_layer_1[<span style=\"color: #00af00; text-decoration-color: #00af00\">0</span>]… │\n",
       "│ (<span style=\"color: #0087ff; text-decoration-color: #0087ff\">Functional</span>)        │                   │            │                   │\n",
       "├─────────────────────┼───────────────────┼────────────┼───────────────────┤\n",
       "│ global_average_poo… │ (<span style=\"color: #00d7ff; text-decoration-color: #00d7ff\">None</span>, <span style=\"color: #00af00; text-decoration-color: #00af00\">960</span>)       │          <span style=\"color: #00af00; text-decoration-color: #00af00\">0</span> │ MobileNetV3Large… │\n",
       "│ (<span style=\"color: #0087ff; text-decoration-color: #0087ff\">GlobalAveragePool…</span> │                   │            │                   │\n",
       "├─────────────────────┼───────────────────┼────────────┼───────────────────┤\n",
       "│ global_max_pooling… │ (<span style=\"color: #00d7ff; text-decoration-color: #00d7ff\">None</span>, <span style=\"color: #00af00; text-decoration-color: #00af00\">960</span>)       │          <span style=\"color: #00af00; text-decoration-color: #00af00\">0</span> │ MobileNetV3Large… │\n",
       "│ (<span style=\"color: #0087ff; text-decoration-color: #0087ff\">GlobalMaxPooling2…</span> │                   │            │                   │\n",
       "├─────────────────────┼───────────────────┼────────────┼───────────────────┤\n",
       "│ concatenate         │ (<span style=\"color: #00d7ff; text-decoration-color: #00d7ff\">None</span>, <span style=\"color: #00af00; text-decoration-color: #00af00\">1920</span>)      │          <span style=\"color: #00af00; text-decoration-color: #00af00\">0</span> │ global_average_p… │\n",
       "│ (<span style=\"color: #0087ff; text-decoration-color: #0087ff\">Concatenate</span>)       │                   │            │ global_max_pooli… │\n",
       "├─────────────────────┼───────────────────┼────────────┼───────────────────┤\n",
       "│ dense (<span style=\"color: #0087ff; text-decoration-color: #0087ff\">Dense</span>)       │ (<span style=\"color: #00d7ff; text-decoration-color: #00d7ff\">None</span>, <span style=\"color: #00af00; text-decoration-color: #00af00\">512</span>)       │    <span style=\"color: #00af00; text-decoration-color: #00af00\">983,040</span> │ concatenate[<span style=\"color: #00af00; text-decoration-color: #00af00\">0</span>][<span style=\"color: #00af00; text-decoration-color: #00af00\">0</span>] │\n",
       "├─────────────────────┼───────────────────┼────────────┼───────────────────┤\n",
       "│ batch_normalization │ (<span style=\"color: #00d7ff; text-decoration-color: #00d7ff\">None</span>, <span style=\"color: #00af00; text-decoration-color: #00af00\">512</span>)       │      <span style=\"color: #00af00; text-decoration-color: #00af00\">2,048</span> │ dense[<span style=\"color: #00af00; text-decoration-color: #00af00\">0</span>][<span style=\"color: #00af00; text-decoration-color: #00af00\">0</span>]       │\n",
       "│ (<span style=\"color: #0087ff; text-decoration-color: #0087ff\">BatchNormalizatio…</span> │                   │            │                   │\n",
       "├─────────────────────┼───────────────────┼────────────┼───────────────────┤\n",
       "│ activation_20       │ (<span style=\"color: #00d7ff; text-decoration-color: #00d7ff\">None</span>, <span style=\"color: #00af00; text-decoration-color: #00af00\">512</span>)       │          <span style=\"color: #00af00; text-decoration-color: #00af00\">0</span> │ batch_normalizat… │\n",
       "│ (<span style=\"color: #0087ff; text-decoration-color: #0087ff\">Activation</span>)        │                   │            │                   │\n",
       "├─────────────────────┼───────────────────┼────────────┼───────────────────┤\n",
       "│ dropout (<span style=\"color: #0087ff; text-decoration-color: #0087ff\">Dropout</span>)   │ (<span style=\"color: #00d7ff; text-decoration-color: #00d7ff\">None</span>, <span style=\"color: #00af00; text-decoration-color: #00af00\">512</span>)       │          <span style=\"color: #00af00; text-decoration-color: #00af00\">0</span> │ activation_20[<span style=\"color: #00af00; text-decoration-color: #00af00\">0</span>]… │\n",
       "├─────────────────────┼───────────────────┼────────────┼───────────────────┤\n",
       "│ dense_1 (<span style=\"color: #0087ff; text-decoration-color: #0087ff\">Dense</span>)     │ (<span style=\"color: #00d7ff; text-decoration-color: #00d7ff\">None</span>, <span style=\"color: #00af00; text-decoration-color: #00af00\">256</span>)       │    <span style=\"color: #00af00; text-decoration-color: #00af00\">131,328</span> │ dropout[<span style=\"color: #00af00; text-decoration-color: #00af00\">0</span>][<span style=\"color: #00af00; text-decoration-color: #00af00\">0</span>]     │\n",
       "├─────────────────────┼───────────────────┼────────────┼───────────────────┤\n",
       "│ dropout_1 (<span style=\"color: #0087ff; text-decoration-color: #0087ff\">Dropout</span>) │ (<span style=\"color: #00d7ff; text-decoration-color: #00d7ff\">None</span>, <span style=\"color: #00af00; text-decoration-color: #00af00\">256</span>)       │          <span style=\"color: #00af00; text-decoration-color: #00af00\">0</span> │ dense_1[<span style=\"color: #00af00; text-decoration-color: #00af00\">0</span>][<span style=\"color: #00af00; text-decoration-color: #00af00\">0</span>]     │\n",
       "├─────────────────────┼───────────────────┼────────────┼───────────────────┤\n",
       "│ dense_2 (<span style=\"color: #0087ff; text-decoration-color: #0087ff\">Dense</span>)     │ (<span style=\"color: #00d7ff; text-decoration-color: #00d7ff\">None</span>, <span style=\"color: #00af00; text-decoration-color: #00af00\">7</span>)         │      <span style=\"color: #00af00; text-decoration-color: #00af00\">1,799</span> │ dropout_1[<span style=\"color: #00af00; text-decoration-color: #00af00\">0</span>][<span style=\"color: #00af00; text-decoration-color: #00af00\">0</span>]   │\n",
       "└─────────────────────┴───────────────────┴────────────┴───────────────────┘\n",
       "</pre>\n"
      ],
      "text/plain": [
       "┏━━━━━━━━━━━━━━━━━━━━━┳━━━━━━━━━━━━━━━━━━━┳━━━━━━━━━━━━┳━━━━━━━━━━━━━━━━━━━┓\n",
       "┃\u001b[1m \u001b[0m\u001b[1mLayer (type)       \u001b[0m\u001b[1m \u001b[0m┃\u001b[1m \u001b[0m\u001b[1mOutput Shape     \u001b[0m\u001b[1m \u001b[0m┃\u001b[1m \u001b[0m\u001b[1m   Param #\u001b[0m\u001b[1m \u001b[0m┃\u001b[1m \u001b[0m\u001b[1mConnected to     \u001b[0m\u001b[1m \u001b[0m┃\n",
       "┡━━━━━━━━━━━━━━━━━━━━━╇━━━━━━━━━━━━━━━━━━━╇━━━━━━━━━━━━╇━━━━━━━━━━━━━━━━━━━┩\n",
       "│ input_layer_1       │ (\u001b[38;5;45mNone\u001b[0m, \u001b[38;5;34m224\u001b[0m, \u001b[38;5;34m224\u001b[0m,  │          \u001b[38;5;34m0\u001b[0m │ -                 │\n",
       "│ (\u001b[38;5;33mInputLayer\u001b[0m)        │ \u001b[38;5;34m3\u001b[0m)                │            │                   │\n",
       "├─────────────────────┼───────────────────┼────────────┼───────────────────┤\n",
       "│ MobileNetV3Large    │ (\u001b[38;5;45mNone\u001b[0m, \u001b[38;5;34m7\u001b[0m, \u001b[38;5;34m7\u001b[0m, \u001b[38;5;34m960\u001b[0m) │  \u001b[38;5;34m2,996,352\u001b[0m │ input_layer_1[\u001b[38;5;34m0\u001b[0m]… │\n",
       "│ (\u001b[38;5;33mFunctional\u001b[0m)        │                   │            │                   │\n",
       "├─────────────────────┼───────────────────┼────────────┼───────────────────┤\n",
       "│ global_average_poo… │ (\u001b[38;5;45mNone\u001b[0m, \u001b[38;5;34m960\u001b[0m)       │          \u001b[38;5;34m0\u001b[0m │ MobileNetV3Large… │\n",
       "│ (\u001b[38;5;33mGlobalAveragePool…\u001b[0m │                   │            │                   │\n",
       "├─────────────────────┼───────────────────┼────────────┼───────────────────┤\n",
       "│ global_max_pooling… │ (\u001b[38;5;45mNone\u001b[0m, \u001b[38;5;34m960\u001b[0m)       │          \u001b[38;5;34m0\u001b[0m │ MobileNetV3Large… │\n",
       "│ (\u001b[38;5;33mGlobalMaxPooling2…\u001b[0m │                   │            │                   │\n",
       "├─────────────────────┼───────────────────┼────────────┼───────────────────┤\n",
       "│ concatenate         │ (\u001b[38;5;45mNone\u001b[0m, \u001b[38;5;34m1920\u001b[0m)      │          \u001b[38;5;34m0\u001b[0m │ global_average_p… │\n",
       "│ (\u001b[38;5;33mConcatenate\u001b[0m)       │                   │            │ global_max_pooli… │\n",
       "├─────────────────────┼───────────────────┼────────────┼───────────────────┤\n",
       "│ dense (\u001b[38;5;33mDense\u001b[0m)       │ (\u001b[38;5;45mNone\u001b[0m, \u001b[38;5;34m512\u001b[0m)       │    \u001b[38;5;34m983,040\u001b[0m │ concatenate[\u001b[38;5;34m0\u001b[0m][\u001b[38;5;34m0\u001b[0m] │\n",
       "├─────────────────────┼───────────────────┼────────────┼───────────────────┤\n",
       "│ batch_normalization │ (\u001b[38;5;45mNone\u001b[0m, \u001b[38;5;34m512\u001b[0m)       │      \u001b[38;5;34m2,048\u001b[0m │ dense[\u001b[38;5;34m0\u001b[0m][\u001b[38;5;34m0\u001b[0m]       │\n",
       "│ (\u001b[38;5;33mBatchNormalizatio…\u001b[0m │                   │            │                   │\n",
       "├─────────────────────┼───────────────────┼────────────┼───────────────────┤\n",
       "│ activation_20       │ (\u001b[38;5;45mNone\u001b[0m, \u001b[38;5;34m512\u001b[0m)       │          \u001b[38;5;34m0\u001b[0m │ batch_normalizat… │\n",
       "│ (\u001b[38;5;33mActivation\u001b[0m)        │                   │            │                   │\n",
       "├─────────────────────┼───────────────────┼────────────┼───────────────────┤\n",
       "│ dropout (\u001b[38;5;33mDropout\u001b[0m)   │ (\u001b[38;5;45mNone\u001b[0m, \u001b[38;5;34m512\u001b[0m)       │          \u001b[38;5;34m0\u001b[0m │ activation_20[\u001b[38;5;34m0\u001b[0m]… │\n",
       "├─────────────────────┼───────────────────┼────────────┼───────────────────┤\n",
       "│ dense_1 (\u001b[38;5;33mDense\u001b[0m)     │ (\u001b[38;5;45mNone\u001b[0m, \u001b[38;5;34m256\u001b[0m)       │    \u001b[38;5;34m131,328\u001b[0m │ dropout[\u001b[38;5;34m0\u001b[0m][\u001b[38;5;34m0\u001b[0m]     │\n",
       "├─────────────────────┼───────────────────┼────────────┼───────────────────┤\n",
       "│ dropout_1 (\u001b[38;5;33mDropout\u001b[0m) │ (\u001b[38;5;45mNone\u001b[0m, \u001b[38;5;34m256\u001b[0m)       │          \u001b[38;5;34m0\u001b[0m │ dense_1[\u001b[38;5;34m0\u001b[0m][\u001b[38;5;34m0\u001b[0m]     │\n",
       "├─────────────────────┼───────────────────┼────────────┼───────────────────┤\n",
       "│ dense_2 (\u001b[38;5;33mDense\u001b[0m)     │ (\u001b[38;5;45mNone\u001b[0m, \u001b[38;5;34m7\u001b[0m)         │      \u001b[38;5;34m1,799\u001b[0m │ dropout_1[\u001b[38;5;34m0\u001b[0m][\u001b[38;5;34m0\u001b[0m]   │\n",
       "└─────────────────────┴───────────────────┴────────────┴───────────────────┘\n"
      ]
     },
     "metadata": {},
     "output_type": "display_data"
    },
    {
     "data": {
      "text/html": [
       "<pre style=\"white-space:pre;overflow-x:auto;line-height:normal;font-family:Menlo,'DejaVu Sans Mono',consolas,'Courier New',monospace\"><span style=\"font-weight: bold\"> Total params: </span><span style=\"color: #00af00; text-decoration-color: #00af00\">4,114,567</span> (15.70 MB)\n",
       "</pre>\n"
      ],
      "text/plain": [
       "\u001b[1m Total params: \u001b[0m\u001b[38;5;34m4,114,567\u001b[0m (15.70 MB)\n"
      ]
     },
     "metadata": {},
     "output_type": "display_data"
    },
    {
     "data": {
      "text/html": [
       "<pre style=\"white-space:pre;overflow-x:auto;line-height:normal;font-family:Menlo,'DejaVu Sans Mono',consolas,'Courier New',monospace\"><span style=\"font-weight: bold\"> Trainable params: </span><span style=\"color: #00af00; text-decoration-color: #00af00\">1,117,191</span> (4.26 MB)\n",
       "</pre>\n"
      ],
      "text/plain": [
       "\u001b[1m Trainable params: \u001b[0m\u001b[38;5;34m1,117,191\u001b[0m (4.26 MB)\n"
      ]
     },
     "metadata": {},
     "output_type": "display_data"
    },
    {
     "data": {
      "text/html": [
       "<pre style=\"white-space:pre;overflow-x:auto;line-height:normal;font-family:Menlo,'DejaVu Sans Mono',consolas,'Courier New',monospace\"><span style=\"font-weight: bold\"> Non-trainable params: </span><span style=\"color: #00af00; text-decoration-color: #00af00\">2,997,376</span> (11.43 MB)\n",
       "</pre>\n"
      ],
      "text/plain": [
       "\u001b[1m Non-trainable params: \u001b[0m\u001b[38;5;34m2,997,376\u001b[0m (11.43 MB)\n"
      ]
     },
     "metadata": {},
     "output_type": "display_data"
    }
   ],
   "source": [
    "model = model_manager.build_model(data_generator.get_num_classes())\n",
    "model.summary()"
   ]
  },
  {
   "cell_type": "code",
   "execution_count": 20,
   "metadata": {},
   "outputs": [
    {
     "name": "stdout",
     "output_type": "stream",
     "text": [
      "Epoch 1/100\n"
     ]
    },
    {
     "ename": "ValueError",
     "evalue": "FBetaScore expects 2D inputs with shape (batch_size, output_dim). Received input shapes: y_pred.shape=(None, 7) and y_true.shape=(None, 7, 7).",
     "output_type": "error",
     "traceback": [
      "\u001b[0;31m---------------------------------------------------------------------------\u001b[0m",
      "\u001b[0;31mValueError\u001b[0m                                Traceback (most recent call last)",
      "Cell \u001b[0;32mIn[20], line 1\u001b[0m\n\u001b[0;32m----> 1\u001b[0m history \u001b[38;5;241m=\u001b[39m \u001b[43mmodel_manager\u001b[49m\u001b[38;5;241;43m.\u001b[39;49m\u001b[43mtrain\u001b[49m\u001b[43m(\u001b[49m\n\u001b[1;32m      2\u001b[0m \u001b[43m    \u001b[49m\u001b[43mtrain_gen\u001b[49m\u001b[43m,\u001b[49m\n\u001b[1;32m      3\u001b[0m \u001b[43m    \u001b[49m\u001b[43mval_gen\u001b[49m\u001b[43m,\u001b[49m\n\u001b[1;32m      4\u001b[0m \u001b[43m    \u001b[49m\u001b[43miteration\u001b[49m\u001b[38;5;241;43m=\u001b[39;49m\u001b[38;5;241;43m1\u001b[39;49m\u001b[43m,\u001b[49m\n\u001b[1;32m      5\u001b[0m \u001b[43m    \u001b[49m\u001b[43mepochs\u001b[49m\u001b[38;5;241;43m=\u001b[39;49m\u001b[38;5;241;43m100\u001b[39;49m\u001b[43m,\u001b[49m\n\u001b[1;32m      6\u001b[0m \u001b[43m    \u001b[49m\u001b[43mclass_weights\u001b[49m\u001b[38;5;241;43m=\u001b[39;49m\u001b[43mclass_weights\u001b[49m\u001b[43m,\u001b[49m\n\u001b[1;32m      7\u001b[0m \u001b[43m)\u001b[49m\n",
      "Cell \u001b[0;32mIn[9], line 92\u001b[0m, in \u001b[0;36mModelManager.train\u001b[0;34m(self, train_ds, val_ds, iteration, epochs, class_weights)\u001b[0m\n\u001b[1;32m     65\u001b[0m \u001b[38;5;28;01mdef\u001b[39;00m \u001b[38;5;21mtrain\u001b[39m(\n\u001b[1;32m     66\u001b[0m     \u001b[38;5;28mself\u001b[39m,\n\u001b[1;32m     67\u001b[0m     train_ds,\n\u001b[0;32m   (...)\u001b[0m\n\u001b[1;32m     71\u001b[0m     class_weights: Optional[Dict] \u001b[38;5;241m=\u001b[39m \u001b[38;5;28;01mNone\u001b[39;00m,\n\u001b[1;32m     72\u001b[0m ) \u001b[38;5;241m-\u001b[39m\u001b[38;5;241m>\u001b[39m tf\u001b[38;5;241m.\u001b[39mkeras\u001b[38;5;241m.\u001b[39mcallbacks\u001b[38;5;241m.\u001b[39mHistory:\n\u001b[1;32m     73\u001b[0m     callbacks \u001b[38;5;241m=\u001b[39m [\n\u001b[1;32m     74\u001b[0m         tf\u001b[38;5;241m.\u001b[39mkeras\u001b[38;5;241m.\u001b[39mcallbacks\u001b[38;5;241m.\u001b[39mModelCheckpoint(\n\u001b[1;32m     75\u001b[0m             \u001b[38;5;28mstr\u001b[39m(\u001b[38;5;28mself\u001b[39m\u001b[38;5;241m.\u001b[39mmodel_dir \u001b[38;5;241m/\u001b[39m \u001b[38;5;124mf\u001b[39m\u001b[38;5;124m\"\u001b[39m\u001b[38;5;124mbest_model_iter_\u001b[39m\u001b[38;5;132;01m{\u001b[39;00miteration\u001b[38;5;132;01m}\u001b[39;00m\u001b[38;5;124m.keras\u001b[39m\u001b[38;5;124m\"\u001b[39m),\n\u001b[0;32m   (...)\u001b[0m\n\u001b[1;32m     89\u001b[0m         ),\n\u001b[1;32m     90\u001b[0m     ]\n\u001b[0;32m---> 92\u001b[0m     history \u001b[38;5;241m=\u001b[39m \u001b[38;5;28;43mself\u001b[39;49m\u001b[38;5;241;43m.\u001b[39;49m\u001b[43mmodel\u001b[49m\u001b[38;5;241;43m.\u001b[39;49m\u001b[43mfit\u001b[49m\u001b[43m(\u001b[49m\n\u001b[1;32m     93\u001b[0m \u001b[43m        \u001b[49m\u001b[43mtrain_ds\u001b[49m\u001b[43m,\u001b[49m\n\u001b[1;32m     94\u001b[0m \u001b[43m        \u001b[49m\u001b[43mvalidation_data\u001b[49m\u001b[38;5;241;43m=\u001b[39;49m\u001b[43mval_ds\u001b[49m\u001b[43m,\u001b[49m\n\u001b[1;32m     95\u001b[0m \u001b[43m        \u001b[49m\u001b[43mepochs\u001b[49m\u001b[38;5;241;43m=\u001b[39;49m\u001b[43mepochs\u001b[49m\u001b[43m,\u001b[49m\n\u001b[1;32m     96\u001b[0m \u001b[43m        \u001b[49m\u001b[43mcallbacks\u001b[49m\u001b[38;5;241;43m=\u001b[39;49m\u001b[43mcallbacks\u001b[49m\u001b[43m,\u001b[49m\n\u001b[1;32m     97\u001b[0m \u001b[43m        \u001b[49m\u001b[43mclass_weight\u001b[49m\u001b[38;5;241;43m=\u001b[39;49m\u001b[43mclass_weights\u001b[49m\u001b[43m,\u001b[49m\n\u001b[1;32m     98\u001b[0m \u001b[43m    \u001b[49m\u001b[43m)\u001b[49m\n\u001b[1;32m    100\u001b[0m     \u001b[38;5;28;01mreturn\u001b[39;00m history\n",
      "File \u001b[0;32m~/miniconda3/envs/ml/lib/python3.10/site-packages/keras/src/utils/traceback_utils.py:122\u001b[0m, in \u001b[0;36mfilter_traceback.<locals>.error_handler\u001b[0;34m(*args, **kwargs)\u001b[0m\n\u001b[1;32m    119\u001b[0m     filtered_tb \u001b[38;5;241m=\u001b[39m _process_traceback_frames(e\u001b[38;5;241m.\u001b[39m__traceback__)\n\u001b[1;32m    120\u001b[0m     \u001b[38;5;66;03m# To get the full stack trace, call:\u001b[39;00m\n\u001b[1;32m    121\u001b[0m     \u001b[38;5;66;03m# `keras.config.disable_traceback_filtering()`\u001b[39;00m\n\u001b[0;32m--> 122\u001b[0m     \u001b[38;5;28;01mraise\u001b[39;00m e\u001b[38;5;241m.\u001b[39mwith_traceback(filtered_tb) \u001b[38;5;28;01mfrom\u001b[39;00m \u001b[38;5;28;01mNone\u001b[39;00m\n\u001b[1;32m    123\u001b[0m \u001b[38;5;28;01mfinally\u001b[39;00m:\n\u001b[1;32m    124\u001b[0m     \u001b[38;5;28;01mdel\u001b[39;00m filtered_tb\n",
      "Cell \u001b[0;32mIn[9], line 57\u001b[0m, in \u001b[0;36mModelManager._compile_model.<locals>.sparse_f1_score\u001b[0;34m(y_true, y_pred)\u001b[0m\n\u001b[1;32m     55\u001b[0m \u001b[38;5;28;01mdef\u001b[39;00m \u001b[38;5;21msparse_f1_score\u001b[39m(y_true, y_pred):\n\u001b[1;32m     56\u001b[0m     y_true_one_hot \u001b[38;5;241m=\u001b[39m tf\u001b[38;5;241m.\u001b[39mone_hot(tf\u001b[38;5;241m.\u001b[39mcast(y_true, tf\u001b[38;5;241m.\u001b[39mint32), num_classes)\n\u001b[0;32m---> 57\u001b[0m     \u001b[38;5;28;01mreturn\u001b[39;00m \u001b[43mf1_score\u001b[49m\u001b[43m(\u001b[49m\u001b[43my_true_one_hot\u001b[49m\u001b[43m,\u001b[49m\u001b[43m \u001b[49m\u001b[43my_pred\u001b[49m\u001b[43m)\u001b[49m\n",
      "\u001b[0;31mValueError\u001b[0m: FBetaScore expects 2D inputs with shape (batch_size, output_dim). Received input shapes: y_pred.shape=(None, 7) and y_true.shape=(None, 7, 7)."
     ]
    }
   ],
   "source": [
    "history = model_manager.train(\n",
    "    train_gen,\n",
    "    val_gen,\n",
    "    iteration=1,\n",
    "    epochs=100,\n",
    "    class_weights=class_weights,\n",
    ")"
   ]
  },
  {
   "cell_type": "code",
   "execution_count": null,
   "metadata": {},
   "outputs": [],
   "source": [
    "plot_history_subplot(history)"
   ]
  },
  {
   "cell_type": "code",
   "execution_count": null,
   "metadata": {},
   "outputs": [],
   "source": [
    "history_finetune = model_manager.fine_tune(\n",
    "    train_gen,\n",
    "    val_gen,\n",
    "    iteration=1,\n",
    "    num_layers_to_unfreeze=50,\n",
    "    epochs=30,\n",
    "    class_weights=class_weights,\n",
    ")"
   ]
  },
  {
   "cell_type": "code",
   "execution_count": null,
   "metadata": {},
   "outputs": [],
   "source": [
    "plot_history_subplot(history_finetune)"
   ]
  },
  {
   "cell_type": "code",
   "execution_count": null,
   "metadata": {},
   "outputs": [],
   "source": [
    "evaluation_results = evaluator.evaluate_iteration(\n",
    "    iteration=1, test_ds=test_gen, class_names=initial_classes\n",
    ")"
   ]
  },
  {
   "cell_type": "code",
   "execution_count": null,
   "metadata": {},
   "outputs": [],
   "source": [
    "evaluator.print_classification_report(iteration=1)"
   ]
  },
  {
   "cell_type": "markdown",
   "metadata": {},
   "source": [
    "#### Second Iteration: The next classes with highest probabilities\n"
   ]
  },
  {
   "cell_type": "code",
   "execution_count": null,
   "metadata": {},
   "outputs": [],
   "source": [
    "all_classes = dataset_manager.get_class_subset(num_classes=9)\n",
    "new_classes = all_classes[7:]\n",
    "\n",
    "print(f\"Original classes: {all_classes[:7]}\")\n",
    "print(f\"New classes: {new_classes}\")\n",
    "print(f\"All classes: {all_classes}\")"
   ]
  },
  {
   "cell_type": "code",
   "execution_count": null,
   "metadata": {},
   "outputs": [],
   "source": [
    "data_split = dataset_manager.prepare_data_split(all_classes)"
   ]
  },
  {
   "cell_type": "code",
   "execution_count": null,
   "metadata": {},
   "outputs": [],
   "source": [
    "train_gen, val_gen, test_gen = data_generator.create_generators(data_split)"
   ]
  },
  {
   "cell_type": "code",
   "execution_count": null,
   "metadata": {},
   "outputs": [],
   "source": [
    "total_samples = sum(dataset_manager.class_counts[cls] for cls in all_classes)\n",
    "class_weights = {\n",
    "    data_split.class_mapping[cls]: total_samples\n",
    "    / (len(all_classes) * dataset_manager.class_counts[cls])\n",
    "    for cls in all_classes\n",
    "}"
   ]
  },
  {
   "cell_type": "code",
   "execution_count": null,
   "metadata": {},
   "outputs": [],
   "source": [
    "evaluator = ModelEvaluator(model_manager)"
   ]
  },
  {
   "cell_type": "code",
   "execution_count": null,
   "metadata": {},
   "outputs": [],
   "source": [
    "model_manager.prepare_next_iteration(\n",
    "    previous_iteration=1,\n",
    "    new_num_classes=len(all_classes),\n",
    ")"
   ]
  },
  {
   "cell_type": "code",
   "execution_count": null,
   "metadata": {},
   "outputs": [],
   "source": [
    "history = model_manager.train(\n",
    "    train_gen,\n",
    "    val_gen,\n",
    "    iteration=2,\n",
    "    epochs=100,\n",
    "    class_weights=class_weights,\n",
    ")"
   ]
  },
  {
   "cell_type": "code",
   "execution_count": null,
   "metadata": {},
   "outputs": [],
   "source": [
    "plot_history_subplot(history)"
   ]
  },
  {
   "cell_type": "code",
   "execution_count": null,
   "metadata": {},
   "outputs": [],
   "source": [
    "history_finetune = model_manager.fine_tune(\n",
    "    train_gen,\n",
    "    val_gen,\n",
    "    iteration=2,\n",
    "    num_layers_to_unfreeze=50,\n",
    "    epochs=30,\n",
    "    class_weights=class_weights,\n",
    ")"
   ]
  },
  {
   "cell_type": "code",
   "execution_count": null,
   "metadata": {},
   "outputs": [],
   "source": [
    "plot_history_subplot(history_finetune)"
   ]
  },
  {
   "cell_type": "code",
   "execution_count": null,
   "metadata": {},
   "outputs": [],
   "source": [
    "evaluation_results = evaluator.evaluate_iteration(\n",
    "    iteration=2, test_ds=test_gen, class_names=all_classes\n",
    ")"
   ]
  },
  {
   "cell_type": "code",
   "execution_count": null,
   "metadata": {},
   "outputs": [],
   "source": [
    "evaluator.print_classification_report(iteration=2)"
   ]
  }
 ],
 "metadata": {
  "kernelspec": {
   "display_name": "ml",
   "language": "python",
   "name": "python3"
  },
  "language_info": {
   "codemirror_mode": {
    "name": "ipython",
    "version": 3
   },
   "file_extension": ".py",
   "mimetype": "text/x-python",
   "name": "python",
   "nbconvert_exporter": "python",
   "pygments_lexer": "ipython3",
   "version": "3.10.13"
  }
 },
 "nbformat": 4,
 "nbformat_minor": 2
}
